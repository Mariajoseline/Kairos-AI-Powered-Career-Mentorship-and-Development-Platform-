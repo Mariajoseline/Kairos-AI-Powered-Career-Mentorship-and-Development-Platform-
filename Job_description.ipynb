{
 "cells": [
  {
   "cell_type": "code",
   "execution_count": 1,
   "id": "67be3179",
   "metadata": {},
   "outputs": [
    {
     "name": "stdout",
     "output_type": "stream",
     "text": [
      "Enter a job role: Full Stack Developer\n",
      "\n",
      "📝 Job Role: Full Stack Developer\n",
      "\n",
      "📄 Summarized Job Description:\n",
      " Job Description BAE Systems, Inc. is currently looking for a Full Stack Developer (Sr) to join an innovative team of developers in Washington, DC. This position supports the development of mission-critical applications for a federal government client focused on national security.\n",
      "\n",
      "The senior Full Stack Developer will be responsible for the end-to-end lifecycle for software development and the application in production. Includes the technical analysis of requirements, development of the software, automated testing, builds, deployment, monitoring, and feedback.\n",
      "• Work in conjunction with other government and contractor staff to assist in all facets of development and O&M for the application.\n",
      "• Provide support which will include, but is not limited to, the gathering, analysis, and development of enhancement specifications/requirements provided by the system owner.\n",
      "• Assist in supporting all aspects of the project to include all phases of life cycle development.\n",
      "Required Education, Experience, & Skills\n",
      "• Bachelor's degree in Engineering, Computer Science, or other related analytical, scientific, or technical discipline.\n",
      "• 8 years of experience with programming and software development in multiple layers in the software stack (UI, web or micro services, database, search).\n",
      "• Experience with leading or advanced programming and software development including analysis, design, development, implementation, testing, maintenance, quality assurance, troubleshooting and/or upgrading of sof...\n",
      "\n",
      "🛠️  Common Technical Skills:\n",
      " AWS, Angular, CSS, Docker, GCP, Git, HTML, Java, JavaScript, Keras, Kubernetes, Linux, Machine Learning, Node.js, Python, React, SQL, TensorFlow\n"
     ]
    }
   ],
   "source": [
    "import requests\n",
    "import pandas as pd\n",
    "import re\n",
    "\n",
    "def fetch_jobs_summary(job_title, num_pages=3):\n",
    "    url = \"https://jsearch.p.rapidapi.com/search\"\n",
    "    headers = {\n",
    "        \"X-RapidAPI-Key\": \"c3ef6fae66msh94ef11a4afe89bap155351jsn62cb7c14910d\",  # 🔁 Replace with your key\n",
    "        \"X-RapidAPI-Host\": \"jsearch.p.rapidapi.com\"\n",
    "    }\n",
    "\n",
    "    all_descriptions = []\n",
    "    all_skills = set()\n",
    "\n",
    "    # Predefined technical skills list (extend as needed)\n",
    "    tech_skills = [\n",
    "        \"Python\", \"Java\", \"SQL\", \"JavaScript\", \"C++\", \"R\", \"C#\", \"HTML\", \"CSS\", \n",
    "        \"Machine Learning\", \"Deep Learning\", \"TensorFlow\", \"Keras\", \"Data Analysis\", \n",
    "        \"Data Science\", \"AWS\", \"GCP\", \"Docker\", \"Kubernetes\", \"Git\", \"Linux\", \n",
    "        \"Pandas\", \"NumPy\", \"Flask\", \"React\", \"Angular\", \"Node.js\", \"Tableau\", \"Power BI\"\n",
    "    ]\n",
    "\n",
    "    for page in range(1, num_pages + 1):\n",
    "        params = {\n",
    "            \"query\": job_title,\n",
    "            \"page\": str(page)\n",
    "        }\n",
    "        response = requests.get(url, headers=headers, params=params)\n",
    "        data = response.json()\n",
    "\n",
    "        for job in data.get(\"data\", []):\n",
    "            description = job.get(\"job_description\", \"\")\n",
    "            all_descriptions.append(description)\n",
    "\n",
    "            # Extract skills from this description\n",
    "            for skill in tech_skills:\n",
    "                if re.search(r'\\b' + re.escape(skill) + r'\\b', description, re.IGNORECASE):\n",
    "                    all_skills.add(skill)\n",
    "\n",
    "    # Combine all descriptions into one\n",
    "    combined_description = \" \".join(all_descriptions)\n",
    "\n",
    "    # Clean up and trim if too long\n",
    "    final_description = combined_description.strip()\n",
    "    if len(final_description) > 1500:\n",
    "        final_description = final_description[:1500] + \"...\"\n",
    "\n",
    "    return final_description, sorted(all_skills)\n",
    "\n",
    "# Example usage\n",
    "job_input = input(\"Enter a job role: \")  # Example: \"Data Analyst\"\n",
    "description, skills = fetch_jobs_summary(job_input)\n",
    "\n",
    "print(\"\\n📝 Job Role:\", job_input)\n",
    "print(\"\\n📄 Summarized Job Description:\\n\", description)\n",
    "print(\"\\n🛠️  Common Technical Skills:\\n\", \", \".join(skills))\n"
   ]
  },
  {
   "cell_type": "code",
   "execution_count": null,
   "id": "4e856a7a",
   "metadata": {},
   "outputs": [],
   "source": []
  }
 ],
 "metadata": {
  "kernelspec": {
   "display_name": "Python 3 (ipykernel)",
   "language": "python",
   "name": "python3"
  },
  "language_info": {
   "codemirror_mode": {
    "name": "ipython",
    "version": 3
   },
   "file_extension": ".py",
   "mimetype": "text/x-python",
   "name": "python",
   "nbconvert_exporter": "python",
   "pygments_lexer": "ipython3",
   "version": "3.10.9"
  }
 },
 "nbformat": 4,
 "nbformat_minor": 5
}
